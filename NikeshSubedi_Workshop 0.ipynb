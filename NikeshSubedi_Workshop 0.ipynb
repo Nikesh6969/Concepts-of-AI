{
 "cells": [
  {
   "cell_type": "code",
   "execution_count": 4,
   "id": "199b3096-49d3-4b52-8877-d8d8410f47cd",
   "metadata": {},
   "outputs": [
    {
     "name": "stdout",
     "output_type": "stream",
     "text": [
      "Minimum coins required is: 3\n"
     ]
    }
   ],
   "source": [
    "# Task 1 - Coin Change Problem\n",
    "\n",
    "def min_coins(coins, amount):\n",
    "    \"\"\"\n",
    "    Finds the minimum number of coins needed to make up a given amount using dynamic programming.\n",
    "\n",
    "    Parameters:\n",
    "    coins (list of int): Available coin denominations.\n",
    "    amount (int): Target amount to achieve.\n",
    "\n",
    "    Returns:\n",
    "    int: Minimum number of coins required, or -1 if not possible.\n",
    "    \"\"\"\n",
    "\n",
    "    dp = [float('inf')] * (amount + 1)\n",
    "    dp[0] = 0\n",
    "\n",
    "    for coin in coins:\n",
    "        for i in range(coin, amount + 1):\n",
    "            dp[i] = min(dp[i], dp[i - coin] + 1)\n",
    "\n",
    "    return dp[amount] if dp[amount] != float('inf') else -1\n",
    "\n",
    "# Testing\n",
    "coins = [1, 2, 5]\n",
    "amount = 11\n",
    "result = min_coins(coins, amount)\n",
    "print(f\"Minimum coins required is: {result}\")  # Output should be 3\n"
   ]
  },
  {
   "cell_type": "code",
   "execution_count": 6,
   "id": "df94986d-fd0d-4f4c-b16c-449b78b2f92f",
   "metadata": {},
   "outputs": [
    {
     "name": "stdout",
     "output_type": "stream",
     "text": [
      "LCS length is 3, and the LCS is 'ace'\n"
     ]
    }
   ],
   "source": [
    "# Task 2 - LCS Problem\n",
    "\n",
    "def longest_common_subsequence(s1, s2):\n",
    "    \"\"\"\n",
    "    Finds the length and the actual Longest Common Subsequence (LCS) of two strings using dynamic programming.\n",
    "\n",
    "    Parameters:\n",
    "    s1 (str): First string.\n",
    "    s2 (str): Second string.\n",
    "\n",
    "    Returns:\n",
    "    int: Length of the LCS.\n",
    "    str: The LCS itself.\n",
    "    \"\"\"\n",
    "    m, n = len(s1), len(s2)\n",
    "\n",
    "    # 2D array to store LCS information\n",
    "    dp = [[\"\"] * (n + 1) for _ in range(m + 1)]\n",
    "\n",
    "    for i in range(1, m + 1):\n",
    "        for j in range(1, n + 1):\n",
    "            if s1[i - 1] == s2[j - 1]:  # If characters match\n",
    "                dp[i][j] = dp[i - 1][j - 1] + s1[i - 1]\n",
    "            else:  # If characters don't match, take the existing LCS\n",
    "                dp[i][j] = dp[i - 1][j] if len(dp[i - 1][j]) > len(dp[i][j - 1]) else dp[i][j - 1]\n",
    "\n",
    "    lcs_string = dp[m][n]\n",
    "    return len(lcs_string), lcs_string\n",
    "\n",
    "\n",
    "# Test case\n",
    "s1 = \"abcde\"\n",
    "s2 = \"ace\"\n",
    "lcs_length, lcs_string = longest_common_subsequence(s1, s2)\n",
    "print(f\"LCS length is {lcs_length}, and the LCS is '{lcs_string}'\")\n",
    "\n"
   ]
  },
  {
   "cell_type": "code",
   "execution_count": 8,
   "id": "048c6ea8-1f90-469f-84e5-dd6a16e1eea4",
   "metadata": {},
   "outputs": [
    {
     "name": "stdout",
     "output_type": "stream",
     "text": [
      "Maximum value for the given capacity is 9\n"
     ]
    }
   ],
   "source": [
    "# Task 3 - 0/1 Knapsack Problem\n",
    "\n",
    "def knapsack(weights, values, capacity):\n",
    "    \"\"\"\n",
    "    Solves the 0/1 Knapsack Problem using dynamic programming.\n",
    "\n",
    "    Parameters:\n",
    "    weights (list of int): List of item weights.\n",
    "    values (list of int): List of item values corresponding to the weights.\n",
    "    capacity (int): Maximum weight capacity of the knapsack.\n",
    "\n",
    "    Returns:\n",
    "    int: Maximum value that can be achieved within the given weight capacity.\n",
    "    \"\"\"\n",
    "    n = len(weights)\n",
    "\n",
    "    # 2D array initialized to 0\n",
    "    dp = [[0] * (capacity + 1) for _ in range(n + 1)]\n",
    "\n",
    "    for i in range(1, n + 1):\n",
    "        for w in range(1, capacity + 1):\n",
    "            if weights[i - 1] <= w:  # If the item can be included\n",
    "                # Max of including the item or not including it\n",
    "                dp[i][w] = max(dp[i - 1][w], values[i - 1] + dp[i - 1][w - weights[i - 1]])\n",
    "            else:\n",
    "                dp[i][w] = dp[i - 1][w]\n",
    "\n",
    "    return dp[n][capacity]\n",
    "\n",
    "\n",
    "# Test case\n",
    "weights = [1, 3, 4, 5]\n",
    "values = [1, 4, 5, 7]\n",
    "capacity = 7\n",
    "\n",
    "max_value = knapsack(weights, values, capacity)\n",
    "print(f\"Maximum value for the given capacity is {max_value}\")\n"
   ]
  },
  {
   "cell_type": "code",
   "execution_count": null,
   "id": "67b14307-a85c-41dc-8d68-92b8f0311baa",
   "metadata": {},
   "outputs": [],
   "source": []
  }
 ],
 "metadata": {
  "kernelspec": {
   "display_name": "Python 3 (ipykernel)",
   "language": "python",
   "name": "python3"
  },
  "language_info": {
   "codemirror_mode": {
    "name": "ipython",
    "version": 3
   },
   "file_extension": ".py",
   "mimetype": "text/x-python",
   "name": "python",
   "nbconvert_exporter": "python",
   "pygments_lexer": "ipython3",
   "version": "3.12.7"
  }
 },
 "nbformat": 4,
 "nbformat_minor": 5
}
